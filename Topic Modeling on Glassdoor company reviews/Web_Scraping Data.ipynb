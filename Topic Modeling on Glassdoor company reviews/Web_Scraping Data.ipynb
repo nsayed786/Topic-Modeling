{
 "cells": [
  {
   "cell_type": "code",
   "execution_count": 1,
   "metadata": {},
   "outputs": [],
   "source": [
    "#Import necessay libraries for web scraping\n",
    "from bs4 import BeautifulSoup\n",
    "import urllib.request\n",
    "import pandas as pd"
   ]
  },
  {
   "cell_type": "code",
   "execution_count": 2,
   "metadata": {},
   "outputs": [],
   "source": [
    "#Create a dictionary with company code and name\n",
    "company_code_name = {1:\"Intel\",2:\"Google\",3:\"Microsoft\",4:\"American Express\",5:\"Cisco\",6:\"Apple\",7:\"TCS\",8:\"Mahindra\",9:\"Toyota\",10:\"Bosch\"}"
   ]
  },
  {
   "cell_type": "code",
   "execution_count": 3,
   "metadata": {},
   "outputs": [],
   "source": [
    "# url = \"https://www.glassdoor.co.in/Reviews/Employee-Review-Intel-Capital-RVW12376181.htm\"\n",
    "# page = request.urlopen(url)"
   ]
  },
  {
   "cell_type": "code",
   "execution_count": 4,
   "metadata": {},
   "outputs": [],
   "source": [
    "# import urllib.request\n",
    "\n",
    "# user_agent = 'Mozilla/5.0 (Windows; U; Windows NT 5.1; en-US; rv:1.9.0.7) Gecko/2009021910 Firefox/3.0.7'\n",
    "\n",
    "# # url = \"https://www.glassdoor.co.in/Reviews/Employee-Review-Intel-Capital-RVW12376181.htm\"\n",
    "# url = \"https://www.glassdoor.co.in/Reviews/Intel-Corporation-Reviews-E1519.htm\"\n",
    "# headers={'User-Agent':user_agent,} \n",
    "\n",
    "# request=urllib.request.Request(url,None,headers) #The assembled request\n",
    "# response = urllib.request.urlopen(request)\n",
    "# data = response.read() "
   ]
  },
  {
   "cell_type": "code",
   "execution_count": 6,
   "metadata": {},
   "outputs": [],
   "source": [
    "user_agent = 'Mozilla/5.0 (Windows; U; Windows NT 5.1; en-US; rv:1.9.0.7) Gecko/2009021910 Firefox/3.0.7'\n",
    "headers={'User-Agent':user_agent,} \n",
    "\n",
    "#Functions to get the response from web page\n",
    "def get_response_from_url(url):\n",
    "    request = urllib.request.Request(url,None,headers) #The assembled request\n",
    "    response = urllib.request.urlopen(request)\n",
    "    data = response.read() \n",
    "    return data\n",
    "\n",
    "#Fucntion to extract text from page\n",
    "def extract_text(url):\n",
    "    data_list = []\n",
    "    #\"https://www.glassdoor.co.in/Reviews/Intel-Corporation-Reviews-E1519{0}.htm\"\n",
    "    base_url = url\n",
    "    base_url_list = ['','_P2','_P3','_P4','_P5']\n",
    "    for i in base_url_list:\n",
    "        base_url_list = base_url.format(i)\n",
    "#         print(base_url_list)\n",
    "        data_list.append(get_response_from_url(base_url_list))\n",
    "    return data_list"
   ]
  },
  {
   "cell_type": "code",
   "execution_count": 8,
   "metadata": {},
   "outputs": [],
   "source": [
    "url_intel = extract_text(\"https://www.glassdoor.co.in/Reviews/Intel-Corporation-Reviews-E1519{0}.htm\")\n",
    "url_google = extract_text(\"https://www.glassdoor.co.in/Reviews/Google-Reviews-E9079{0}.htm\")\n",
    "url_microsoft =extract_text(\"https://www.glassdoor.co.in/Reviews/Microsoft-Reviews-E1651{0}.htm\")\n",
    "url_american =extract_text(\"https://www.glassdoor.co.in/Reviews/American-Express-Reviews-E35{0}.htm\")\n",
    "url_cisco =extract_text(\"https://www.glassdoor.co.in/Reviews/Cisco-Systems-Reviews-E1425{0}.htm\")\n",
    "url_apple =extract_text(\"https://www.glassdoor.co.in/Reviews/Apple-Reviews-E1138{0}.htm\")\n",
    "url_tcs =extract_text(\"https://www.glassdoor.co.in/Reviews/TCS-Reviews-E959059{0}.htm\")\n",
    "url_mahindra =extract_text(\"https://www.glassdoor.co.in/Reviews/Mahindra-Reviews-E38682{0}.htm\")\n",
    "url_toyota =extract_text(\"https://www.glassdoor.co.in/Reviews/Toyota-Motor-Corporation-Reviews-E1293891{0}.htm\")\n",
    "url_bosch =extract_text(\"https://www.glassdoor.co.in/Reviews/Robert-Bosch-India-Reviews-E237727{0}.htm\")"
   ]
  },
  {
   "cell_type": "code",
   "execution_count": 9,
   "metadata": {},
   "outputs": [],
   "source": [
    "#Create a list for all request\n",
    "url_data_list = [url_intel,url_google,url_microsoft,url_american,url_cisco,url_apple,url_tcs,url_mahindra,url_toyota,url_bosch]"
   ]
  },
  {
   "cell_type": "code",
   "execution_count": 10,
   "metadata": {},
   "outputs": [],
   "source": [
    "#pulling data out of HTML file\n",
    "soup_list = []\n",
    "for i in url_data_list:\n",
    "    for j in i:\n",
    "        soup = BeautifulSoup(j, \"lxml\")\n",
    "        soup_list.append(soup)"
   ]
  },
  {
   "cell_type": "code",
   "execution_count": 11,
   "metadata": {},
   "outputs": [
    {
     "data": {
      "text/plain": [
       "50"
      ]
     },
     "execution_count": 11,
     "metadata": {},
     "output_type": "execute_result"
    }
   ],
   "source": [
    "len(soup_list)"
   ]
  },
  {
   "cell_type": "code",
   "execution_count": 12,
   "metadata": {},
   "outputs": [],
   "source": [
    "#Function to extract the reviews\n",
    "def extract_reviews(soup_list):\n",
    "    text_list = []\n",
    "    text_list_pros = []\n",
    "    for i in range(len(soup_list)):\n",
    "        text = []\n",
    "        for each_div in soup_list[i].findAll(\"div\", class_=\"cell\"):\n",
    "            for each_li in each_div.find_all('span',class_=\"summary \"):\n",
    "                text.append(each_li.text)\n",
    "        text_list.append(text)\n",
    "\n",
    "        # for div in soup.findAll(\"div\", class_=\"cell top padTopMd\"):\n",
    "        #     print(div)\n",
    "        for each_li in soup_list[i].find_all('p',class_=[\" pros mainText\",\" pros mainText truncateThis wrapToggleStr\"]):\n",
    "        #     print(each_li)\n",
    "            text_p = [] \n",
    "            text_p.append(each_li.text)\n",
    "    #         text += \" \"\n",
    "            text_list_pros.append(text_p)\n",
    "    return text_list, text_list_pros"
   ]
  },
  {
   "cell_type": "code",
   "execution_count": 13,
   "metadata": {},
   "outputs": [],
   "source": [
    "#Get reviews\n",
    "review_list,review_list_pros  = extract_reviews(soup_list)"
   ]
  },
  {
   "cell_type": "code",
   "execution_count": 15,
   "metadata": {},
   "outputs": [],
   "source": [
    "new_review_list = []\n",
    "for i in range(len(review_list)):\n",
    "    for j in review_list[i]:\n",
    "        new_review_list.append(j)\n",
    "# print(len(new_list))\n",
    "# print(len(text_list_pros))\n",
    "# print(len(text_list))"
   ]
  },
  {
   "cell_type": "code",
   "execution_count": 17,
   "metadata": {},
   "outputs": [],
   "source": [
    "#Making the proper formating of reviews\n",
    "new2_review_list = []\n",
    "for i in range(len(new_review_list)):\n",
    "    s = str(new_review_list[i])+ \"\\n \"+ str(review_list_pros[i])\n",
    "    new2_review_list.append(s)"
   ]
  },
  {
   "cell_type": "code",
   "execution_count": 19,
   "metadata": {},
   "outputs": [
    {
     "data": {
      "text/plain": [
       "500"
      ]
     },
     "execution_count": 19,
     "metadata": {},
     "output_type": "execute_result"
    }
   ],
   "source": [
    "len(new_review_list)"
   ]
  },
  {
   "cell_type": "code",
   "execution_count": 20,
   "metadata": {},
   "outputs": [],
   "source": [
    "# review = pd.DataFrame(new2_review_list, columns=['company reviews'])"
   ]
  },
  {
   "cell_type": "code",
   "execution_count": 21,
   "metadata": {},
   "outputs": [],
   "source": [
    "#To create the code for company \n",
    "company1 = []\n",
    "for i in range(10):\n",
    "    company = [i+1 for x in range(50)]\n",
    "    company1.append(company)\n",
    "            "
   ]
  },
  {
   "cell_type": "code",
   "execution_count": 22,
   "metadata": {},
   "outputs": [],
   "source": [
    "compant_code_1 = []\n",
    "for i in company1:\n",
    "    for j in i:\n",
    "        compant_code_1.append(j)      "
   ]
  },
  {
   "cell_type": "code",
   "execution_count": 23,
   "metadata": {},
   "outputs": [],
   "source": [
    "# company_code = pd.DataFrame(compant_code_1,columns=['company_code'])"
   ]
  },
  {
   "cell_type": "code",
   "execution_count": 26,
   "metadata": {},
   "outputs": [
    {
     "data": {
      "text/plain": [
       "10"
      ]
     },
     "execution_count": 26,
     "metadata": {},
     "output_type": "execute_result"
    }
   ],
   "source": [
    "len(company_code_name)"
   ]
  },
  {
   "cell_type": "code",
   "execution_count": 35,
   "metadata": {},
   "outputs": [],
   "source": [
    "#Create a list of company names\n",
    "company_name = []\n",
    "for i in compant_code_1:\n",
    "    if i in company_code_name:\n",
    "        company_name.append(company_code_name[i])"
   ]
  },
  {
   "cell_type": "code",
   "execution_count": 36,
   "metadata": {},
   "outputs": [
    {
     "data": {
      "text/plain": [
       "500"
      ]
     },
     "execution_count": 36,
     "metadata": {},
     "output_type": "execute_result"
    }
   ],
   "source": [
    "len(company_name)"
   ]
  },
  {
   "cell_type": "code",
   "execution_count": 37,
   "metadata": {},
   "outputs": [],
   "source": [
    "# company_name = pd.DataFrame(company_name,columns=['company_name'])"
   ]
  },
  {
   "cell_type": "code",
   "execution_count": 38,
   "metadata": {},
   "outputs": [
    {
     "name": "stdout",
     "output_type": "stream",
     "text": [
      "500\n",
      "500\n",
      "500\n"
     ]
    }
   ],
   "source": [
    "print((len(compant_code_1)))\n",
    "print(len(new2_review_list))\n",
    "print(len(company_name))"
   ]
  },
  {
   "cell_type": "code",
   "execution_count": 40,
   "metadata": {},
   "outputs": [
    {
     "data": {
      "text/html": [
       "<div>\n",
       "<style scoped>\n",
       "    .dataframe tbody tr th:only-of-type {\n",
       "        vertical-align: middle;\n",
       "    }\n",
       "\n",
       "    .dataframe tbody tr th {\n",
       "        vertical-align: top;\n",
       "    }\n",
       "\n",
       "    .dataframe thead th {\n",
       "        text-align: right;\n",
       "    }\n",
       "</style>\n",
       "<table border=\"1\" class=\"dataframe\">\n",
       "  <thead>\n",
       "    <tr style=\"text-align: right;\">\n",
       "      <th></th>\n",
       "      <th>company_code</th>\n",
       "      <th>company_name</th>\n",
       "      <th>review</th>\n",
       "    </tr>\n",
       "  </thead>\n",
       "  <tbody>\n",
       "    <tr>\n",
       "      <th>0</th>\n",
       "      <td>1</td>\n",
       "      <td>Intel</td>\n",
       "      <td>\"Good\"\\n ['Good ,work life, very good, perks,g...</td>\n",
       "    </tr>\n",
       "    <tr>\n",
       "      <th>1</th>\n",
       "      <td>1</td>\n",
       "      <td>Intel</td>\n",
       "      <td>\"Physical design engineer\"\\n ['Work life balan...</td>\n",
       "    </tr>\n",
       "    <tr>\n",
       "      <th>2</th>\n",
       "      <td>1</td>\n",
       "      <td>Intel</td>\n",
       "      <td>\"Great place ro work\"\\n ['Great place to work,...</td>\n",
       "    </tr>\n",
       "    <tr>\n",
       "      <th>3</th>\n",
       "      <td>1</td>\n",
       "      <td>Intel</td>\n",
       "      <td>\"Friendly working culture\"\\n ['1.Helps person ...</td>\n",
       "    </tr>\n",
       "    <tr>\n",
       "      <th>4</th>\n",
       "      <td>1</td>\n",
       "      <td>Intel</td>\n",
       "      <td>\"Working style\"\\n ['Flexibility, opportunity t...</td>\n",
       "    </tr>\n",
       "  </tbody>\n",
       "</table>\n",
       "</div>"
      ],
      "text/plain": [
       "   company_code company_name  \\\n",
       "0             1        Intel   \n",
       "1             1        Intel   \n",
       "2             1        Intel   \n",
       "3             1        Intel   \n",
       "4             1        Intel   \n",
       "\n",
       "                                              review  \n",
       "0  \"Good\"\\n ['Good ,work life, very good, perks,g...  \n",
       "1  \"Physical design engineer\"\\n ['Work life balan...  \n",
       "2  \"Great place ro work\"\\n ['Great place to work,...  \n",
       "3  \"Friendly working culture\"\\n ['1.Helps person ...  \n",
       "4  \"Working style\"\\n ['Flexibility, opportunity t...  "
      ]
     },
     "execution_count": 40,
     "metadata": {},
     "output_type": "execute_result"
    }
   ],
   "source": [
    "#Create a dataframe.\n",
    "raw_data = {\n",
    "        'company_code': compant_code_1,\n",
    "        'company_name': company_name, \n",
    "        'review': new2_review_list\n",
    "}\n",
    "df_a = pd.DataFrame(raw_data, columns = ['company_code', 'company_name', 'review'])\n",
    "df_a.head()"
   ]
  },
  {
   "cell_type": "code",
   "execution_count": 41,
   "metadata": {},
   "outputs": [],
   "source": [
    "#Save the dataframe to csv file\n",
    "df_a.to_csv('glassdoor_review.csv')"
   ]
  },
  {
   "cell_type": "code",
   "execution_count": null,
   "metadata": {},
   "outputs": [],
   "source": []
  }
 ],
 "metadata": {
  "kernelspec": {
   "display_name": "Python 3",
   "language": "python",
   "name": "python3"
  },
  "language_info": {
   "codemirror_mode": {
    "name": "ipython",
    "version": 3
   },
   "file_extension": ".py",
   "mimetype": "text/x-python",
   "name": "python",
   "nbconvert_exporter": "python",
   "pygments_lexer": "ipython3",
   "version": "3.6.6"
  }
 },
 "nbformat": 4,
 "nbformat_minor": 2
}
